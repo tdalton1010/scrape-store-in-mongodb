{
 "cells": [
  {
   "cell_type": "code",
   "execution_count": 1,
   "metadata": {},
   "outputs": [
    {
     "name": "stdout",
     "output_type": "stream",
     "text": [
      "/c/Users/Tobin/Anaconda3/python\n"
     ]
    }
   ],
   "source": [
    "!which python"
   ]
  },
  {
   "cell_type": "code",
   "execution_count": 51,
   "metadata": {
    "scrolled": true
   },
   "outputs": [],
   "source": [
    "from splinter import Browser\n",
    "from bs4 import BeautifulSoup\n",
    "import pandas as pd\n",
    "import time "
   ]
  },
  {
   "cell_type": "markdown",
   "metadata": {},
   "source": [
    "# Windows Users"
   ]
  },
  {
   "cell_type": "code",
   "execution_count": 52,
   "metadata": {},
   "outputs": [],
   "source": [
    "executable_path = {'executable_path': 'chromedriver.exe'}\n",
    "browser = Browser('chrome', **executable_path, headless=False)"
   ]
  },
  {
   "cell_type": "code",
   "execution_count": 53,
   "metadata": {},
   "outputs": [],
   "source": [
    "url = 'https://www.surfline.com/surf-reports-forecasts-cams/costa-rica/3624060'\n",
    "browser.visit(url)"
   ]
  },
  {
   "cell_type": "code",
   "execution_count": 57,
   "metadata": {},
   "outputs": [
    {
     "name": "stdout",
     "output_type": "stream",
     "text": [
      "https://www.surfline.com/surf-report/camaronal/584204204e65fad6a7709140\n",
      "https://www.surfline.com/surf-report/puerto-sandino/5842041f4e65fad6a7708f1c\n",
      "https://www.surfline.com/surf-report/shack-s-shifty-s/584204204e65fad6a7709983\n",
      "https://www.surfline.com/surf-report/tamarindo/5842041f4e65fad6a7708b9b\n",
      "https://www.surfline.com/surf-report/popoyo-area-rovercam/5842041f4e65fad6a7708db9\n",
      "https://www.surfline.com/surf-report/samara/584204204e65fad6a770913d\n",
      "https://www.surfline.com/surf-report/playa-esterillos/5842041f4e65fad6a7708b4f\n",
      "https://www.surfline.com/surf-report/miramar/584204204e65fad6a7709147\n",
      "https://www.surfline.com/surf-report/el-transito/584204204e65fad6a7709078\n",
      "https://www.surfline.com/surf-report/el-astillero/584204204e65fad6a770910c\n",
      "https://www.surfline.com/surf-report/popoyo-outer-reef/5842041f4e65fad6a7708dba\n",
      "https://www.surfline.com/surf-report/santana/5842041f4e65fad6a7708b44\n",
      "https://www.surfline.com/surf-report/panga-drops/584204204e65fad6a7709146\n",
      "https://www.surfline.com/surf-report/colorados/5842041f4e65fad6a7708e1e\n",
      "https://www.surfline.com/surf-report/playa-maderas/5842041f4e65fad6a7708dc0\n",
      "https://www.surfline.com/surf-report/santa-teresa/5842041f4e65fad6a7708e31\n",
      "https://www.surfline.com/surf-report/dominical/5842041f4e65fad6a7708b9c\n",
      "https://www.surfline.com/surf-report/pavones/5842041f4e65fad6a7708ba9\n",
      "https://www.surfline.com/surf-report/las-pe-itas/5a1dfd8b1d8788001b7966de\n",
      "https://www.surfline.com/surf-report/witches-rock/5842041f4e65fad6a7708b99\n",
      "https://www.surfline.com/surf-report/playa-negra/584204204e65fad6a770913a\n",
      "https://www.surfline.com/surf-report/mal-pais/5842041f4e65fad6a7708b9a\n",
      "https://www.surfline.com/surf-report/playa-hermosa-north/584204204e65fad6a770945e\n",
      "https://www.surfline.com/surf-report/playa-hermosa/5842041f4e65fad6a7708b4e\n",
      "https://www.surfline.com/surf-report/manzanillo/5842041f4e65fad6a7708dbd\n",
      "https://www.surfline.com/surf-report/ollie-s-point/5842041f4e65fad6a7708b98\n",
      "https://www.surfline.com/surf-report/playa-grande/5842041f4e65fad6a7708c36\n",
      "https://www.surfline.com/surf-report/playa-langosta/5842041f4e65fad6a7708c38\n",
      "https://www.surfline.com/surf-report/avellanas/5842041f4e65fad6a7708c35\n",
      "https://www.surfline.com/surf-report/ostional/584204204e65fad6a770913c\n",
      "https://www.surfline.com/surf-report/nosara/584204204e65fad6a7709328\n",
      "https://www.surfline.com/surf-report/guiones/5842041f4e65fad6a7708b4d\n",
      "https://www.surfline.com/surf-report/playa-escondida/5842041f4e65fad6a7708ba3\n",
      "https://www.surfline.com/surf-report/herradura/5842041f4e65fad6a7708ba4\n",
      "https://www.surfline.com/surf-report/playa-hermosa-south/5842041f4e65fad6a7708b50\n",
      "https://www.surfline.com/surf-report/bejuco/5842041f4e65fad6a7708b9d\n",
      "https://www.surfline.com/surf-report/manuel-antonio/5842041f4e65fad6a7708c37\n",
      "https://www.surfline.com/surf-report/matapalo/5842041f4e65fad6a7708ba8\n",
      "https://www.surfline.com/surf-report/punta-banco/584204204e65fad6a770913f\n",
      "https://www.surfline.com/surf-report/bluff-beach/584204204e65fad6a7709afa\n",
      "https://www.surfline.com/surf-report/westfalia/584204204e65fad6a7709143\n",
      "https://www.surfline.com/surf-report/cahuita/5842041f4e65fad6a7708c33\n",
      "https://www.surfline.com/surf-report/salsa-brava/5842041f4e65fad6a7708ba7\n",
      "https://www.surfline.com/surf-report/playa-cocles/584204204e65fad6a7709142\n",
      "https://www.surfline.com/surf-report/punta-rocas/5842041f4e65fad6a7708dc8\n",
      "https://www.surfline.com/surf-report/playa-jaco/5842041f4e65fad6a7708ba1\n",
      "https://www.surfline.com/surf-report/careneros/584204204e65fad6a7709b01\n",
      "https://www.surfline.com/surf-report/silverbacks/584204204e65fad6a7709afd\n",
      "https://www.surfline.com/surf-report/bocas-del-toro/5842041f4e65fad6a7708dc1\n",
      "https://www.surfline.com/surf-report/boca-barranca/5842041f4e65fad6a7708ba5\n",
      "https://www.surfline.com/surf-report/caldera-jetty/5842041f4e65fad6a7708ba6\n",
      "https://www.surfline.com/surf-report/zancudo/584204204e65fad6a770913e\n",
      "https://www.surfline.com/surf-report/dumpers/584204204e65fad6a7709afb\n",
      "https://www.surfline.com/surf-report/paunch/584204204e65fad6a7709afc\n",
      "https://www.surfline.com/surf-report/wizard-beach/584204204e65fad6a7709afe\n",
      "https://www.surfline.com/surf-report/playa-santa-catalina/5842041f4e65fad6a7708b54\n"
     ]
    }
   ],
   "source": [
    "html = browser.html\n",
    "soup = BeautifulSoup(html, 'html.parser')\n",
    "\n",
    "location = soup.find_all(class_='sl-spot-details__name')\n",
    "surf = soup.find_all(class_='quiver-surf-height')\n",
    "surf_url = soup.find_all('a', class_='sl-cam-list-link')\n",
    "\n",
    "surf_summary = {}\n",
    "\n",
    "for quote in surf_url:\n",
    "    print(\"https://www.surfline.com\" + quote[\"href\"])\n",
    "    \n"
   ]
  },
  {
   "cell_type": "code",
   "execution_count": 35,
   "metadata": {},
   "outputs": [
    {
     "data": {
      "text/plain": [
       "{}"
      ]
     },
     "execution_count": 35,
     "metadata": {},
     "output_type": "execute_result"
    }
   ],
   "source": [
    "surf_summary"
   ]
  }
 ],
 "metadata": {
  "kernelspec": {
   "display_name": "Python 3",
   "language": "python",
   "name": "python3"
  },
  "language_info": {
   "codemirror_mode": {
    "name": "ipython",
    "version": 3
   },
   "file_extension": ".py",
   "mimetype": "text/x-python",
   "name": "python",
   "nbconvert_exporter": "python",
   "pygments_lexer": "ipython3",
   "version": "3.6.4"
  },
  "varInspector": {
   "cols": {
    "lenName": 16,
    "lenType": 16,
    "lenVar": 40
   },
   "kernels_config": {
    "python": {
     "delete_cmd_postfix": "",
     "delete_cmd_prefix": "del ",
     "library": "var_list.py",
     "varRefreshCmd": "print(var_dic_list())"
    },
    "r": {
     "delete_cmd_postfix": ") ",
     "delete_cmd_prefix": "rm(",
     "library": "var_list.r",
     "varRefreshCmd": "cat(var_dic_list()) "
    }
   },
   "types_to_exclude": [
    "module",
    "function",
    "builtin_function_or_method",
    "instance",
    "_Feature"
   ],
   "window_display": false
  }
 },
 "nbformat": 4,
 "nbformat_minor": 2
}
