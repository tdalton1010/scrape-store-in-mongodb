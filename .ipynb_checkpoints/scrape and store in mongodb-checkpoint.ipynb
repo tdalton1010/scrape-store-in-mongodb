{
 "cells": [
  {
   "cell_type": "code",
   "execution_count": 39,
   "metadata": {},
   "outputs": [],
   "source": [
    "import time\n",
    "from splinter import Browser\n",
    "from bs4 import BeautifulSoup\n",
    "import pandas as pd\n",
    "import pymongo\n",
    "import json "
   ]
  },
  {
   "cell_type": "code",
   "execution_count": 17,
   "metadata": {},
   "outputs": [],
   "source": [
    "executable_path = {'executable_path': 'chromedriver.exe'}\n",
    "browser = Browser('chrome', **executable_path, headless=False)"
   ]
  },
  {
   "cell_type": "code",
   "execution_count": 18,
   "metadata": {},
   "outputs": [],
   "source": [
    "url = 'https://www.surfline.com/surf-reports-forecasts-cams/costa-rica/3624060'\n",
    "browser.visit(url)"
   ]
  },
  {
   "cell_type": "code",
   "execution_count": 19,
   "metadata": {},
   "outputs": [],
   "source": [
    "html = browser.html\n",
    "soup = BeautifulSoup(html, 'html.parser')\n",
    "\n",
    "surf = soup.find_all(\"span\", class_ ='quiver-surf-height')\n",
    "location = soup.find_all(\"h3\", class_ = 'sl-spot-details__name') \n",
    "url = soup.find_all(\"a\",class_='sl-cam-list-link')\n",
    "    \n"
   ]
  },
  {
   "cell_type": "code",
   "execution_count": 20,
   "metadata": {},
   "outputs": [],
   "source": [
    "surf_summary = {}\n",
    "\n",
    "surf_location = []\n",
    "surf_height = []\n",
    "surf_url = []\n",
    "w_temp = []\n",
    "a_temp = []\n",
    "for x in range(len(surf)):\n",
    "    surfy=(surf[x].text)\n",
    "    loc=(location[x].text)\n",
    "    surf_height.append(surfy)\n",
    "    surf_location.append(loc)\n",
    "\n",
    "for x in url:\n",
    "    surl=(\"https://www.surfline.com\" +  x[\"href\"])\n",
    "    surf_url.append(surl)"
   ]
  },
  {
   "cell_type": "code",
   "execution_count": 22,
   "metadata": {},
   "outputs": [
    {
     "name": "stdout",
     "output_type": "stream",
     "text": [
      "84 - 86 ºF\n",
      "83 ºF\n",
      "84 - 86 ºF\n",
      "83 ºF\n",
      "84 - 86 ºF\n",
      "86 ºF\n",
      "84 - 86 ºF\n",
      "86 ºF\n",
      "84 - 86 ºF\n",
      "85 ºF\n",
      "84 - 86 ºF\n",
      "84 ºF\n",
      "84 - 86 ºF\n",
      "83 ºF\n",
      "84 - 86 ºF\n",
      "85 ºF\n",
      "84 - 86 ºF\n",
      "86 ºF\n",
      "84 - 86 ºF\n",
      "86 ºF\n",
      "84 - 86 ºF\n",
      "86 ºF\n",
      "84 - 86 ºF\n",
      "84 ºF\n",
      "84 - 86 ºF\n",
      "82 ºF\n",
      "84 - 86 ºF\n",
      "85 ºF\n",
      "84 - 86 ºF\n",
      "84 ºF\n",
      "84 - 86 ºF\n",
      "86 ºF\n",
      "84 - 86 ºF\n",
      "85 ºF\n",
      "84 - 86 ºF\n",
      "83 ºF\n",
      "84 - 86 ºF\n",
      "84 ºF\n",
      "84 - 86 ºF\n",
      "82 ºF\n",
      "84 - 86 ºF\n",
      "83 ºF\n",
      "84 - 86 ºF\n",
      "86 ºF\n",
      "84 - 86 ºF\n",
      "83 ºF\n",
      "84 - 86 ºF\n",
      "83 ºF\n",
      "84 - 86 ºF\n",
      "83 ºF\n",
      "84 - 86 ºF\n",
      "83 ºF\n",
      "84 - 86 ºF\n",
      "82 ºF\n",
      "84 - 86 ºF\n",
      "82 ºF\n",
      "84 - 86 ºF\n",
      "82 ºF\n",
      "84 - 86 ºF\n",
      "84 ºF\n",
      "84 - 86 ºF\n",
      "83 ºF\n",
      "84 - 86 ºF\n",
      "84 ºF\n",
      "75 - 77 ºF\n",
      "81 ºF\n",
      "84 - 86 ºF\n",
      "82 ºF\n",
      "84 - 86 ºF\n",
      "83 ºF\n",
      "84 - 86 ºF\n",
      "83 ºF\n",
      "84 - 86 ºF\n",
      "84 ºF\n",
      "84 - 86 ºF\n",
      "84 ºF\n",
      "84 - 86 ºF\n",
      "83 ºF\n",
      "84 - 86 ºF\n",
      "84 ºF\n",
      "84 - 86 ºF\n",
      "83 ºF\n",
      "84 - 86 ºF\n",
      "85 ºF\n",
      "84 - 86 ºF\n",
      "84 ºF\n",
      "84 - 86 ºF\n",
      "83 ºF\n",
      "84 - 86 ºF\n",
      "86 ºF\n",
      "84 - 86 ºF\n",
      "84 ºF\n",
      "84 - 86 ºF\n",
      "85 ºF\n",
      "84 - 86 ºF\n",
      "85 ºF\n",
      "84 - 86 ºF\n",
      "84 ºF\n",
      "84 - 86 ºF\n",
      "85 ºF\n",
      "84 - 86 ºF\n",
      "84 ºF\n",
      "84 - 86 ºF\n",
      "84 ºF\n",
      "84 - 86 ºF\n",
      "84 ºF\n",
      "84 - 86 ºF\n",
      "84 ºF\n",
      "84 - 86 ºF\n",
      "84 ºF\n",
      "84 - 86 ºF\n",
      "84 ºF\n"
     ]
    }
   ],
   "source": [
    "a_temp = []\n",
    "w_temp = []\n",
    "for url in surf_url:\n",
    "    html = browser.html\n",
    "    soup = BeautifulSoup(html, 'html.parser')\n",
    "    browser.visit(url)\n",
    "    water_temp = soup.find(\"div\", class_ ='sl-wetsuit-recommender__weather').find_all(\"div\")[0].get_text()\n",
    "    air_temp = soup.find(\"div\", class_ ='sl-wetsuit-recommender__weather').find_all(\"div\")[1].get_text()\n",
    "    a_temp.append(air_temp)\n",
    "    w_temp.append(water_temp)\n",
    "    \n",
    "   \n",
    "    "
   ]
  },
  {
   "cell_type": "code",
   "execution_count": 24,
   "metadata": {},
   "outputs": [],
   "source": [
    "# Initialize PyMongo to work with MongoDBs\n",
    "conn = 'mongodb://localhost:27017'\n",
    "client = pymongo.MongoClient(conn)"
   ]
  },
  {
   "cell_type": "code",
   "execution_count": 25,
   "metadata": {},
   "outputs": [],
   "source": [
    "# Define database and collection\n",
    "db = client.surf_db\n",
    "collection = db.surfsummary"
   ]
  },
  {
   "cell_type": "code",
   "execution_count": 36,
   "metadata": {},
   "outputs": [],
   "source": [
    "surf_summary = pd.DataFrame({\n",
    "    'location': surf_location,\n",
    "    'wave height': surf_height,\n",
    "    'air temperature': a_temp,\n",
    "    'water temperature':w_temp\n",
    "})\n",
    "\n",
    "#collection.insert_one(surf_summary)\n"
   ]
  },
  {
   "cell_type": "code",
   "execution_count": 40,
   "metadata": {},
   "outputs": [
    {
     "data": {
      "text/plain": [
       "<pymongo.results.InsertManyResult at 0x18fb05fdf78>"
      ]
     },
     "execution_count": 40,
     "metadata": {},
     "output_type": "execute_result"
    }
   ],
   "source": [
    "surf_json=json.loads(surf_summary.to_json(orient='records'))\n",
    "collection.insert_many(surf_json)\n"
   ]
  },
  {
   "cell_type": "code",
   "execution_count": null,
   "metadata": {
    "collapsed": true
   },
   "outputs": [],
   "source": []
  }
 ],
 "metadata": {
  "kernelspec": {
   "display_name": "Python 3",
   "language": "python",
   "name": "python3"
  },
  "language_info": {
   "codemirror_mode": {
    "name": "ipython",
    "version": 3
   },
   "file_extension": ".py",
   "mimetype": "text/x-python",
   "name": "python",
   "nbconvert_exporter": "python",
   "pygments_lexer": "ipython3",
   "version": "3.6.4"
  }
 },
 "nbformat": 4,
 "nbformat_minor": 2
}
