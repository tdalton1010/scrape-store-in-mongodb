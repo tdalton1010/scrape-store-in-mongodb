{
 "cells": [
  {
   "cell_type": "code",
   "execution_count": 181,
   "metadata": {},
   "outputs": [],
   "source": [
    "import time\n",
    "from splinter import Browser\n",
    "from bs4 import BeautifulSoup\n",
    "import pandas as pd\n",
    "import pymongo"
   ]
  },
  {
   "cell_type": "code",
   "execution_count": 182,
   "metadata": {},
   "outputs": [],
   "source": [
    "executable_path = {'executable_path': 'chromedriver.exe'}\n",
    "browser = Browser('chrome', **executable_path, headless=False)"
   ]
  },
  {
   "cell_type": "code",
   "execution_count": 183,
   "metadata": {},
   "outputs": [],
   "source": [
    "url = 'https://www.surfline.com/surf-reports-forecasts-cams/costa-rica/3624060'\n",
    "browser.visit(url)"
   ]
  },
  {
   "cell_type": "code",
   "execution_count": 184,
   "metadata": {},
   "outputs": [],
   "source": [
    "html = browser.html\n",
    "soup = BeautifulSoup(html, 'html.parser')\n",
    "\n",
    "surf = soup.find_all(\"span\", class_ ='quiver-surf-height')\n",
    "location = soup.find_all(\"h3\", class_ = 'sl-spot-details__name') \n",
    "urls = soup.find_all(\"a\",class_='sl-cam-list-link')\n",
    "    \n"
   ]
  },
  {
   "cell_type": "code",
   "execution_count": 185,
   "metadata": {},
   "outputs": [],
   "source": [
    "surf_summary = {}\n",
    "\n",
    "surf_location = []\n",
    "surf_height = []\n",
    "surf_url = []\n",
    "\n",
    "\n",
    "for x in range(len(surf)):\n",
    "    surfy=(surf[x].text)\n",
    "    loc=(location[x].text)\n",
    "    surf_height.append(surfy)\n",
    "    surf_location.append(loc)\n",
    "\n",
    "for x in urls:\n",
    "    surl=(\"https://www.surfline.com\" +  x[\"href\"])\n",
    "    surf_url.append(surl)\n"
   ]
  },
  {
   "cell_type": "code",
   "execution_count": 190,
   "metadata": {},
   "outputs": [
    {
     "name": "stdout",
     "output_type": "stream",
     "text": [
      "86 - 88 ºF\n",
      "79 ºF\n"
     ]
    }
   ],
   "source": [
    "a_temp = []\n",
    "w_temp = []\n",
    "for url in surf_url:\n",
    "    html = browser.html\n",
    "    soup = BeautifulSoup(html, 'html.parser')\n",
    "    browser.visit(url)\n",
    "    water_temp = soup.find(\"div\", class_ ='sl-wetsuit-recommender__weather').find_all(\"div\")[0].get_text()\n",
    "    air_temp = soup.find(\"div\", class_ ='sl-wetsuit-recommender__weather').find_all(\"div\")[1].get_text()\n",
    "    a_temp.append(air_temp)\n",
    "    w_temp.append(water_temp)\n",
    "    \n",
    "    print(water_temp)\n",
    "    print(air_temp)\n",
    "    break\n",
    "\n",
    "\n"
   ]
  }
 ],
 "metadata": {
  "kernelspec": {
   "display_name": "Python 3",
   "language": "python",
   "name": "python3"
  },
  "language_info": {
   "codemirror_mode": {
    "name": "ipython",
    "version": 3
   },
   "file_extension": ".py",
   "mimetype": "text/x-python",
   "name": "python",
   "nbconvert_exporter": "python",
   "pygments_lexer": "ipython3",
   "version": "3.6.4"
  }
 },
 "nbformat": 4,
 "nbformat_minor": 2
}
